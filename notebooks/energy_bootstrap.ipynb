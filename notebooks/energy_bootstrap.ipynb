{
 "cells": [
  {
   "cell_type": "markdown",
   "metadata": {},
   "source": [
    "# Bootstrapping free energy on Pru P 3 MD"
   ]
  },
  {
   "cell_type": "code",
   "execution_count": 1,
   "metadata": {
    "collapsed": true
   },
   "outputs": [],
   "source": [
    "import pandas as pd\n",
    "import numpy as np\n",
    "import matplotlib.pyplot as plt\n",
    "import seaborn as sns"
   ]
  },
  {
   "cell_type": "markdown",
   "metadata": {},
   "source": [
    "## Processing entropy outputs"
   ]
  },
  {
   "cell_type": "code",
   "execution_count": 2,
   "metadata": {},
   "outputs": [
    {
     "data": {
      "text/html": [
       "<div>\n",
       "<style scoped>\n",
       "    .dataframe tbody tr th:only-of-type {\n",
       "        vertical-align: middle;\n",
       "    }\n",
       "\n",
       "    .dataframe tbody tr th {\n",
       "        vertical-align: top;\n",
       "    }\n",
       "\n",
       "    .dataframe thead th {\n",
       "        text-align: right;\n",
       "    }\n",
       "</style>\n",
       "<table border=\"1\" class=\"dataframe\">\n",
       "  <thead>\n",
       "    <tr style=\"text-align: right;\">\n",
       "      <th></th>\n",
       "      <th>raw_name</th>\n",
       "      <th>entropy</th>\n",
       "      <th>molecule</th>\n",
       "      <th>instance</th>\n",
       "    </tr>\n",
       "  </thead>\n",
       "  <tbody>\n",
       "    <tr>\n",
       "      <th>0</th>\n",
       "      <td>lig_A_0_complex</td>\n",
       "      <td>220.019266</td>\n",
       "      <td>lig_A_0</td>\n",
       "      <td>complex</td>\n",
       "    </tr>\n",
       "    <tr>\n",
       "      <th>1</th>\n",
       "      <td>lig_A_0_ligand</td>\n",
       "      <td>163.009033</td>\n",
       "      <td>lig_A_0</td>\n",
       "      <td>ligand</td>\n",
       "    </tr>\n",
       "    <tr>\n",
       "      <th>2</th>\n",
       "      <td>lig_A_0_protein</td>\n",
       "      <td>220.017238</td>\n",
       "      <td>lig_A_0</td>\n",
       "      <td>protein</td>\n",
       "    </tr>\n",
       "    <tr>\n",
       "      <th>3</th>\n",
       "      <td>lig_A_1_complex</td>\n",
       "      <td>218.498121</td>\n",
       "      <td>lig_A_1</td>\n",
       "      <td>complex</td>\n",
       "    </tr>\n",
       "    <tr>\n",
       "      <th>4</th>\n",
       "      <td>lig_A_1_ligand</td>\n",
       "      <td>157.551397</td>\n",
       "      <td>lig_A_1</td>\n",
       "      <td>ligand</td>\n",
       "    </tr>\n",
       "    <tr>\n",
       "      <th>5</th>\n",
       "      <td>lig_A_1_protein</td>\n",
       "      <td>219.584462</td>\n",
       "      <td>lig_A_1</td>\n",
       "      <td>protein</td>\n",
       "    </tr>\n",
       "    <tr>\n",
       "      <th>6</th>\n",
       "      <td>lig_A_2_complex</td>\n",
       "      <td>218.659461</td>\n",
       "      <td>lig_A_2</td>\n",
       "      <td>complex</td>\n",
       "    </tr>\n",
       "    <tr>\n",
       "      <th>7</th>\n",
       "      <td>lig_A_2_ligand</td>\n",
       "      <td>157.596434</td>\n",
       "      <td>lig_A_2</td>\n",
       "      <td>ligand</td>\n",
       "    </tr>\n",
       "    <tr>\n",
       "      <th>8</th>\n",
       "      <td>lig_A_2_protein</td>\n",
       "      <td>218.420449</td>\n",
       "      <td>lig_A_2</td>\n",
       "      <td>protein</td>\n",
       "    </tr>\n",
       "    <tr>\n",
       "      <th>9</th>\n",
       "      <td>lig_A_3_complex</td>\n",
       "      <td>217.147008</td>\n",
       "      <td>lig_A_3</td>\n",
       "      <td>complex</td>\n",
       "    </tr>\n",
       "  </tbody>\n",
       "</table>\n",
       "</div>"
      ],
      "text/plain": [
       "          raw_name     entropy molecule instance\n",
       "0  lig_A_0_complex  220.019266  lig_A_0  complex\n",
       "1   lig_A_0_ligand  163.009033  lig_A_0   ligand\n",
       "2  lig_A_0_protein  220.017238  lig_A_0  protein\n",
       "3  lig_A_1_complex  218.498121  lig_A_1  complex\n",
       "4   lig_A_1_ligand  157.551397  lig_A_1   ligand\n",
       "5  lig_A_1_protein  219.584462  lig_A_1  protein\n",
       "6  lig_A_2_complex  218.659461  lig_A_2  complex\n",
       "7   lig_A_2_ligand  157.596434  lig_A_2   ligand\n",
       "8  lig_A_2_protein  218.420449  lig_A_2  protein\n",
       "9  lig_A_3_complex  217.147008  lig_A_3  complex"
      ]
     },
     "execution_count": 2,
     "metadata": {},
     "output_type": "execute_result"
    }
   ],
   "source": [
    "entropy_raw = pd.read_csv('../data/energy/entropy', header = None)\n",
    "entropy_raw.columns = ['raw_name', 'entropy']\n",
    "entropy_raw['molecule'] = entropy_raw['raw_name'].str.extract('(\\w{2,3}_[A,B]_\\d{1,3})*')\n",
    "entropy_raw['instance'] = entropy_raw['raw_name'].str.extract('\\w{2,3}_[A,B]_\\d{1,3}_(\\w*)')\n",
    "entropy_raw[:10]"
   ]
  },
  {
   "cell_type": "code",
   "execution_count": 3,
   "metadata": {},
   "outputs": [
    {
     "data": {
      "text/html": [
       "<div>\n",
       "<style scoped>\n",
       "    .dataframe tbody tr th:only-of-type {\n",
       "        vertical-align: middle;\n",
       "    }\n",
       "\n",
       "    .dataframe tbody tr th {\n",
       "        vertical-align: top;\n",
       "    }\n",
       "\n",
       "    .dataframe thead th {\n",
       "        text-align: right;\n",
       "    }\n",
       "</style>\n",
       "<table border=\"1\" class=\"dataframe\">\n",
       "  <thead>\n",
       "    <tr style=\"text-align: right;\">\n",
       "      <th>instance</th>\n",
       "      <th>complex</th>\n",
       "      <th>ligand</th>\n",
       "      <th>protein</th>\n",
       "    </tr>\n",
       "    <tr>\n",
       "      <th>molecule</th>\n",
       "      <th></th>\n",
       "      <th></th>\n",
       "      <th></th>\n",
       "    </tr>\n",
       "  </thead>\n",
       "  <tbody>\n",
       "    <tr>\n",
       "      <th>lig_A_0</th>\n",
       "      <td>220.019266</td>\n",
       "      <td>163.009033</td>\n",
       "      <td>220.017238</td>\n",
       "    </tr>\n",
       "    <tr>\n",
       "      <th>lig_A_1</th>\n",
       "      <td>218.498121</td>\n",
       "      <td>157.551397</td>\n",
       "      <td>219.584462</td>\n",
       "    </tr>\n",
       "    <tr>\n",
       "      <th>lig_A_2</th>\n",
       "      <td>218.659461</td>\n",
       "      <td>157.596434</td>\n",
       "      <td>218.420449</td>\n",
       "    </tr>\n",
       "    <tr>\n",
       "      <th>lig_A_3</th>\n",
       "      <td>217.147008</td>\n",
       "      <td>163.423264</td>\n",
       "      <td>217.367972</td>\n",
       "    </tr>\n",
       "    <tr>\n",
       "      <th>lig_A_4</th>\n",
       "      <td>219.414274</td>\n",
       "      <td>161.326750</td>\n",
       "      <td>219.373551</td>\n",
       "    </tr>\n",
       "    <tr>\n",
       "      <th>lig_A_5</th>\n",
       "      <td>217.502487</td>\n",
       "      <td>159.572922</td>\n",
       "      <td>217.290954</td>\n",
       "    </tr>\n",
       "    <tr>\n",
       "      <th>lig_A_6</th>\n",
       "      <td>220.357023</td>\n",
       "      <td>160.951108</td>\n",
       "      <td>219.689863</td>\n",
       "    </tr>\n",
       "    <tr>\n",
       "      <th>lig_A_7</th>\n",
       "      <td>219.491598</td>\n",
       "      <td>161.676249</td>\n",
       "      <td>219.482238</td>\n",
       "    </tr>\n",
       "    <tr>\n",
       "      <th>lig_A_8</th>\n",
       "      <td>218.623978</td>\n",
       "      <td>151.970466</td>\n",
       "      <td>219.055760</td>\n",
       "    </tr>\n",
       "    <tr>\n",
       "      <th>lig_A_9</th>\n",
       "      <td>218.014006</td>\n",
       "      <td>157.479895</td>\n",
       "      <td>218.006968</td>\n",
       "    </tr>\n",
       "  </tbody>\n",
       "</table>\n",
       "</div>"
      ],
      "text/plain": [
       "instance     complex      ligand     protein\n",
       "molecule                                    \n",
       "lig_A_0   220.019266  163.009033  220.017238\n",
       "lig_A_1   218.498121  157.551397  219.584462\n",
       "lig_A_2   218.659461  157.596434  218.420449\n",
       "lig_A_3   217.147008  163.423264  217.367972\n",
       "lig_A_4   219.414274  161.326750  219.373551\n",
       "lig_A_5   217.502487  159.572922  217.290954\n",
       "lig_A_6   220.357023  160.951108  219.689863\n",
       "lig_A_7   219.491598  161.676249  219.482238\n",
       "lig_A_8   218.623978  151.970466  219.055760\n",
       "lig_A_9   218.014006  157.479895  218.006968"
      ]
     },
     "execution_count": 3,
     "metadata": {},
     "output_type": "execute_result"
    }
   ],
   "source": [
    "entropy_pivot = entropy_raw.pivot_table(columns='instance', values='entropy', index='molecule')\n",
    "entropy_pivot[:10]"
   ]
  },
  {
   "cell_type": "code",
   "execution_count": 4,
   "metadata": {
    "collapsed": true
   },
   "outputs": [],
   "source": [
    "entropy_pivot['total'] = entropy_pivot['complex'] - (entropy_pivot['ligand'] + entropy_pivot['protein'])\n",
    "entropy_pivot['temperature'] = 298\n",
    "jul2kcal=0.000239006\n",
    "entropy_pivot['total'] = entropy_pivot['total'] * entropy_pivot['temperature'] * jul2kcal\n",
    "entropy_pivot.reset_index(level=0, inplace=True)"
   ]
  },
  {
   "cell_type": "code",
   "execution_count": 5,
   "metadata": {
    "collapsed": true
   },
   "outputs": [],
   "source": [
    "entropy_pivot['mol_id'] = entropy_pivot['molecule'].str.extract('^(\\w{3})')\n",
    "entropy_pivot['orientation'] = entropy_pivot['molecule'].str.extract('^\\w{3}_([A,B])_')"
   ]
  },
  {
   "cell_type": "code",
   "execution_count": 6,
   "metadata": {},
   "outputs": [
    {
     "name": "stderr",
     "output_type": "stream",
     "text": [
      "C:\\Users\\Bruno\\Anaconda3\\lib\\site-packages\\seaborn\\categorical.py:1508: FutureWarning: remove_na is deprecated and is a private function. Do not use.\n",
      "  stat_data = remove_na(group_data[hue_mask])\n"
     ]
    },
    {
     "data": {
      "image/png": "[encoded data removed]",
      "text/plain": [
       "<matplotlib.figure.Figure at 0x165a8d0ae48>"
      ]
     },
     "metadata": {},
     "output_type": "display_data"
    }
   ],
   "source": [
    "sns.barplot(x = 'mol_id', y ='total', hue='orientation', data = entropy_pivot)\n",
    "plt.show()"
   ]
  },
  {
   "cell_type": "markdown",
   "metadata": {},
   "source": [
    "## Processing CaFe outputs"
   ]
  },
  {
   "cell_type": "code",
   "execution_count": 7,
   "metadata": {},
   "outputs": [
    {
     "name": "stderr",
     "output_type": "stream",
     "text": [
      "C:\\Users\\Bruno\\Anaconda3\\lib\\site-packages\\ipykernel_launcher.py:1: ParserWarning: Falling back to the 'python' engine because the 'c' engine does not support regex separators (separators > 1 char and different from '\\s+' are interpreted as regex); you can avoid this warning by specifying engine='python'.\n",
      "  \"\"\"Entry point for launching an IPython kernel.\n"
     ]
    }
   ],
   "source": [
    "raw_entalpy = pd.read_table('../data/energy/entalpy', sep=\"\\s\",header =None, names=['frames', 'dH', 'var', 'raw'])\n",
    "raw_entalpy['mol_id'] = raw_entalpy['raw'].str.extract('^(\\w{3})')\n",
    "raw_entalpy['orientation'] = raw_entalpy['raw'].str.extract('^\\w{3}_([A,B])')\n",
    "raw_entalpy['rep'] = raw_entalpy['raw'].str.extract('^\\w{3}_[A,B]_(\\d{1,2})\\.entalpy')"
   ]
  },
  {
   "cell_type": "code",
   "execution_count": 8,
   "metadata": {
    "collapsed": true
   },
   "outputs": [],
   "source": [
    "raw_entalpy = raw_entalpy[['mol_id', 'orientation', 'rep', 'dH', 'frames', 'var']]"
   ]
  },
  {
   "cell_type": "code",
   "execution_count": 9,
   "metadata": {},
   "outputs": [
    {
     "name": "stderr",
     "output_type": "stream",
     "text": [
      "C:\\Users\\Bruno\\Anaconda3\\lib\\site-packages\\seaborn\\categorical.py:1508: FutureWarning: remove_na is deprecated and is a private function. Do not use.\n",
      "  stat_data = remove_na(group_data[hue_mask])\n"
     ]
    },
    {
     "data": {
      "image/png": "[encoded data removed]",
      "text/plain": [
       "<matplotlib.figure.Figure at 0x165ba56b588>"
      ]
     },
     "metadata": {},
     "output_type": "display_data"
    }
   ],
   "source": [
    "sns.barplot(x = 'mol_id', y = 'dH', hue = 'orientation', data = raw_entalpy)\n",
    "plt.show()"
   ]
  },
  {
   "cell_type": "code",
   "execution_count": 10,
   "metadata": {},
   "outputs": [
    {
     "name": "stderr",
     "output_type": "stream",
     "text": [
      "C:\\Users\\Bruno\\Anaconda3\\lib\\site-packages\\seaborn\\categorical.py:490: FutureWarning: remove_na is deprecated and is a private function. Do not use.\n",
      "  box_data = remove_na(group_data[hue_mask])\n"
     ]
    },
    {
     "data": {
      "image/png": "[encoded data removed]",
      "text/plain": [
       "<matplotlib.figure.Figure at 0x165bad181d0>"
      ]
     },
     "metadata": {},
     "output_type": "display_data"
    }
   ],
   "source": [
    "sns.boxplot(x = 'mol_id', y = 'dH', hue = 'orientation', data = raw_entalpy)\n",
    "plt.show()"
   ]
  },
  {
   "cell_type": "markdown",
   "metadata": {},
   "source": [
    "## Merging everything"
   ]
  },
  {
   "cell_type": "code",
   "execution_count": 11,
   "metadata": {},
   "outputs": [
    {
     "data": {
      "text/html": [
       "<div>\n",
       "<style scoped>\n",
       "    .dataframe tbody tr th:only-of-type {\n",
       "        vertical-align: middle;\n",
       "    }\n",
       "\n",
       "    .dataframe tbody tr th {\n",
       "        vertical-align: top;\n",
       "    }\n",
       "\n",
       "    .dataframe thead th {\n",
       "        text-align: right;\n",
       "    }\n",
       "</style>\n",
       "<table border=\"1\" class=\"dataframe\">\n",
       "  <thead>\n",
       "    <tr style=\"text-align: right;\">\n",
       "      <th>instance</th>\n",
       "      <th>molecule</th>\n",
       "      <th>complex</th>\n",
       "      <th>ligand</th>\n",
       "      <th>protein</th>\n",
       "      <th>total</th>\n",
       "      <th>temperature</th>\n",
       "      <th>mol_id</th>\n",
       "      <th>orientation</th>\n",
       "      <th>rep</th>\n",
       "      <th>dS</th>\n",
       "    </tr>\n",
       "  </thead>\n",
       "  <tbody>\n",
       "    <tr>\n",
       "      <th>0</th>\n",
       "      <td>lig_A_0</td>\n",
       "      <td>220.019266</td>\n",
       "      <td>163.009033</td>\n",
       "      <td>220.017238</td>\n",
       "      <td>-11.609976</td>\n",
       "      <td>298</td>\n",
       "      <td>lig</td>\n",
       "      <td>A</td>\n",
       "      <td>0</td>\n",
       "      <td>-11.609976</td>\n",
       "    </tr>\n",
       "    <tr>\n",
       "      <th>1</th>\n",
       "      <td>lig_A_1</td>\n",
       "      <td>218.498121</td>\n",
       "      <td>157.551397</td>\n",
       "      <td>219.584462</td>\n",
       "      <td>-11.298781</td>\n",
       "      <td>298</td>\n",
       "      <td>lig</td>\n",
       "      <td>A</td>\n",
       "      <td>1</td>\n",
       "      <td>-11.298781</td>\n",
       "    </tr>\n",
       "    <tr>\n",
       "      <th>2</th>\n",
       "      <td>lig_A_2</td>\n",
       "      <td>218.659461</td>\n",
       "      <td>157.596434</td>\n",
       "      <td>218.420449</td>\n",
       "      <td>-11.207592</td>\n",
       "      <td>298</td>\n",
       "      <td>lig</td>\n",
       "      <td>A</td>\n",
       "      <td>2</td>\n",
       "      <td>-11.207592</td>\n",
       "    </tr>\n",
       "    <tr>\n",
       "      <th>3</th>\n",
       "      <td>lig_A_3</td>\n",
       "      <td>217.147008</td>\n",
       "      <td>163.423264</td>\n",
       "      <td>217.367972</td>\n",
       "      <td>-11.655362</td>\n",
       "      <td>298</td>\n",
       "      <td>lig</td>\n",
       "      <td>A</td>\n",
       "      <td>3</td>\n",
       "      <td>-11.655362</td>\n",
       "    </tr>\n",
       "    <tr>\n",
       "      <th>4</th>\n",
       "      <td>lig_A_4</td>\n",
       "      <td>219.414274</td>\n",
       "      <td>161.326750</td>\n",
       "      <td>219.373551</td>\n",
       "      <td>-11.487402</td>\n",
       "      <td>298</td>\n",
       "      <td>lig</td>\n",
       "      <td>A</td>\n",
       "      <td>4</td>\n",
       "      <td>-11.487402</td>\n",
       "    </tr>\n",
       "    <tr>\n",
       "      <th>5</th>\n",
       "      <td>lig_A_5</td>\n",
       "      <td>217.502487</td>\n",
       "      <td>159.572922</td>\n",
       "      <td>217.290954</td>\n",
       "      <td>-11.350322</td>\n",
       "      <td>298</td>\n",
       "      <td>lig</td>\n",
       "      <td>A</td>\n",
       "      <td>5</td>\n",
       "      <td>-11.350322</td>\n",
       "    </tr>\n",
       "    <tr>\n",
       "      <th>6</th>\n",
       "      <td>lig_A_6</td>\n",
       "      <td>220.357023</td>\n",
       "      <td>160.951108</td>\n",
       "      <td>219.689863</td>\n",
       "      <td>-11.416030</td>\n",
       "      <td>298</td>\n",
       "      <td>lig</td>\n",
       "      <td>A</td>\n",
       "      <td>6</td>\n",
       "      <td>-11.416030</td>\n",
       "    </tr>\n",
       "    <tr>\n",
       "      <th>7</th>\n",
       "      <td>lig_A_7</td>\n",
       "      <td>219.491598</td>\n",
       "      <td>161.676249</td>\n",
       "      <td>219.482238</td>\n",
       "      <td>-11.514528</td>\n",
       "      <td>298</td>\n",
       "      <td>lig</td>\n",
       "      <td>A</td>\n",
       "      <td>7</td>\n",
       "      <td>-11.514528</td>\n",
       "    </tr>\n",
       "    <tr>\n",
       "      <th>8</th>\n",
       "      <td>lig_A_8</td>\n",
       "      <td>218.623978</td>\n",
       "      <td>151.970466</td>\n",
       "      <td>219.055760</td>\n",
       "      <td>-10.854665</td>\n",
       "      <td>298</td>\n",
       "      <td>lig</td>\n",
       "      <td>A</td>\n",
       "      <td>8</td>\n",
       "      <td>-10.854665</td>\n",
       "    </tr>\n",
       "    <tr>\n",
       "      <th>9</th>\n",
       "      <td>lig_A_9</td>\n",
       "      <td>218.014006</td>\n",
       "      <td>157.479895</td>\n",
       "      <td>218.006968</td>\n",
       "      <td>-11.215813</td>\n",
       "      <td>298</td>\n",
       "      <td>lig</td>\n",
       "      <td>A</td>\n",
       "      <td>9</td>\n",
       "      <td>-11.215813</td>\n",
       "    </tr>\n",
       "  </tbody>\n",
       "</table>\n",
       "</div>"
      ],
      "text/plain": [
       "instance molecule     complex      ligand     protein      total  temperature  \\\n",
       "0         lig_A_0  220.019266  163.009033  220.017238 -11.609976          298   \n",
       "1         lig_A_1  218.498121  157.551397  219.584462 -11.298781          298   \n",
       "2         lig_A_2  218.659461  157.596434  218.420449 -11.207592          298   \n",
       "3         lig_A_3  217.147008  163.423264  217.367972 -11.655362          298   \n",
       "4         lig_A_4  219.414274  161.326750  219.373551 -11.487402          298   \n",
       "5         lig_A_5  217.502487  159.572922  217.290954 -11.350322          298   \n",
       "6         lig_A_6  220.357023  160.951108  219.689863 -11.416030          298   \n",
       "7         lig_A_7  219.491598  161.676249  219.482238 -11.514528          298   \n",
       "8         lig_A_8  218.623978  151.970466  219.055760 -10.854665          298   \n",
       "9         lig_A_9  218.014006  157.479895  218.006968 -11.215813          298   \n",
       "\n",
       "instance mol_id orientation rep         dS  \n",
       "0           lig           A   0 -11.609976  \n",
       "1           lig           A   1 -11.298781  \n",
       "2           lig           A   2 -11.207592  \n",
       "3           lig           A   3 -11.655362  \n",
       "4           lig           A   4 -11.487402  \n",
       "5           lig           A   5 -11.350322  \n",
       "6           lig           A   6 -11.416030  \n",
       "7           lig           A   7 -11.514528  \n",
       "8           lig           A   8 -10.854665  \n",
       "9           lig           A   9 -11.215813  "
      ]
     },
     "execution_count": 11,
     "metadata": {},
     "output_type": "execute_result"
    }
   ],
   "source": [
    "entropy_pivot['rep'] = entropy_pivot['molecule'].str.extract('^\\w{3}_[A,B]_(\\d*)')\n",
    "entropy_pivot['dS']  = entropy_pivot['total']\n",
    "entropy_pivot[:10]"
   ]
  },
  {
   "cell_type": "code",
   "execution_count": 12,
   "metadata": {
    "collapsed": true
   },
   "outputs": [],
   "source": [
    "final_data = pd.merge(\n",
    "    raw_entalpy[['mol_id','orientation','rep', 'dH']], \n",
    "    entropy_pivot[['mol_id','orientation','rep', 'dS', 'temperature']], \n",
    "    how='inner', on=['mol_id','orientation','rep']\n",
    ")\n",
    "final_data['dG'] = final_data['dH'] - final_data['dS']"
   ]
  },
  {
   "cell_type": "code",
   "execution_count": 13,
   "metadata": {},
   "outputs": [
    {
     "name": "stderr",
     "output_type": "stream",
     "text": [
      "C:\\Users\\Bruno\\Anaconda3\\lib\\site-packages\\seaborn\\categorical.py:1508: FutureWarning: remove_na is deprecated and is a private function. Do not use.\n",
      "  stat_data = remove_na(group_data[hue_mask])\n"
     ]
    },
    {
     "data": {
      "image/png": "[encoded data removed]",
      "text/plain": [
       "<matplotlib.figure.Figure at 0x165bac57908>"
      ]
     },
     "metadata": {},
     "output_type": "display_data"
    }
   ],
   "source": [
    "ax = sns.barplot(x = 'mol_id', y ='dG', hue='orientation', data = final_data)\n",
    "ax.set_ylabel('$\\Delta G$ (kcal/mol)')\n",
    "ax.set_xlabel('$molecule$')\n",
    "plt.tight_layout()\n",
    "plt.savefig('../fig/free_binding_energy_bootstrap.png', dpi = 300)\n",
    "plt.show()"
   ]
  },
  {
   "cell_type": "code",
   "execution_count": 14,
   "metadata": {
    "collapsed": true
   },
   "outputs": [],
   "source": [
    "foo = final_data[['mol_id', 'orientation', 'dH','dS','dG']].groupby(['mol_id', 'orientation'])"
   ]
  },
  {
   "cell_type": "code",
   "execution_count": 15,
   "metadata": {
    "collapsed": true
   },
   "outputs": [],
   "source": [
    "agg = foo.describe()"
   ]
  },
  {
   "cell_type": "code",
   "execution_count": 16,
   "metadata": {
    "collapsed": true
   },
   "outputs": [],
   "source": [
    "agg.to_csv('../data/energy/aggregated_free_energy.csv')"
   ]
  },
  {
   "cell_type": "code",
   "execution_count": 23,
   "metadata": {},
   "outputs": [
    {
     "data": {
      "text/html": [
       "<div>\n",
       "<style scoped>\n",
       "    .dataframe tbody tr th:only-of-type {\n",
       "        vertical-align: middle;\n",
       "    }\n",
       "\n",
       "    .dataframe tbody tr th {\n",
       "        vertical-align: top;\n",
       "    }\n",
       "\n",
       "    .dataframe thead tr th {\n",
       "        text-align: left;\n",
       "    }\n",
       "\n",
       "    .dataframe thead tr:last-of-type th {\n",
       "        text-align: right;\n",
       "    }\n",
       "</style>\n",
       "<table border=\"1\" class=\"dataframe\">\n",
       "  <thead>\n",
       "    <tr>\n",
       "      <th></th>\n",
       "      <th></th>\n",
       "      <th colspan=\"6\" halign=\"left\">dH</th>\n",
       "    </tr>\n",
       "    <tr>\n",
       "      <th></th>\n",
       "      <th></th>\n",
       "      <th>count</th>\n",
       "      <th>mean</th>\n",
       "      <th>std</th>\n",
       "      <th>min</th>\n",
       "      <th>50%</th>\n",
       "      <th>max</th>\n",
       "    </tr>\n",
       "    <tr>\n",
       "      <th>mol_id</th>\n",
       "      <th>orientation</th>\n",
       "      <th></th>\n",
       "      <th></th>\n",
       "      <th></th>\n",
       "      <th></th>\n",
       "      <th></th>\n",
       "      <th></th>\n",
       "    </tr>\n",
       "  </thead>\n",
       "  <tbody>\n",
       "    <tr>\n",
       "      <th rowspan=\"2\" valign=\"top\">lig</th>\n",
       "      <th>A</th>\n",
       "      <td>10.0</td>\n",
       "      <td>-18.63</td>\n",
       "      <td>0.68</td>\n",
       "      <td>-19.98</td>\n",
       "      <td>-18.57</td>\n",
       "      <td>-17.64</td>\n",
       "    </tr>\n",
       "    <tr>\n",
       "      <th>B</th>\n",
       "      <td>10.0</td>\n",
       "      <td>-23.03</td>\n",
       "      <td>0.49</td>\n",
       "      <td>-24.07</td>\n",
       "      <td>-23.03</td>\n",
       "      <td>-22.44</td>\n",
       "    </tr>\n",
       "    <tr>\n",
       "      <th rowspan=\"2\" valign=\"top\">phs</th>\n",
       "      <th>A</th>\n",
       "      <td>10.0</td>\n",
       "      <td>-21.73</td>\n",
       "      <td>0.38</td>\n",
       "      <td>-22.27</td>\n",
       "      <td>-21.75</td>\n",
       "      <td>-21.16</td>\n",
       "    </tr>\n",
       "    <tr>\n",
       "      <th>B</th>\n",
       "      <td>10.0</td>\n",
       "      <td>-16.07</td>\n",
       "      <td>0.47</td>\n",
       "      <td>-16.59</td>\n",
       "      <td>-16.17</td>\n",
       "      <td>-14.92</td>\n",
       "    </tr>\n",
       "    <tr>\n",
       "      <th rowspan=\"2\" valign=\"top\">sph</th>\n",
       "      <th>A</th>\n",
       "      <td>10.0</td>\n",
       "      <td>-19.02</td>\n",
       "      <td>0.59</td>\n",
       "      <td>-19.79</td>\n",
       "      <td>-19.09</td>\n",
       "      <td>-17.67</td>\n",
       "    </tr>\n",
       "    <tr>\n",
       "      <th>B</th>\n",
       "      <td>10.0</td>\n",
       "      <td>-22.48</td>\n",
       "      <td>0.27</td>\n",
       "      <td>-22.84</td>\n",
       "      <td>-22.54</td>\n",
       "      <td>-21.94</td>\n",
       "    </tr>\n",
       "  </tbody>\n",
       "</table>\n",
       "</div>"
      ],
      "text/plain": [
       "                      dH                                  \n",
       "                   count   mean   std    min    50%    max\n",
       "mol_id orientation                                        \n",
       "lig    A            10.0 -18.63  0.68 -19.98 -18.57 -17.64\n",
       "       B            10.0 -23.03  0.49 -24.07 -23.03 -22.44\n",
       "phs    A            10.0 -21.73  0.38 -22.27 -21.75 -21.16\n",
       "       B            10.0 -16.07  0.47 -16.59 -16.17 -14.92\n",
       "sph    A            10.0 -19.02  0.59 -19.79 -19.09 -17.67\n",
       "       B            10.0 -22.48  0.27 -22.84 -22.54 -21.94"
      ]
     },
     "execution_count": 23,
     "metadata": {},
     "output_type": "execute_result"
    }
   ],
   "source": [
    "foo.describe(percentiles=[])[['dH']].round(decimals=2)"
   ]
  },
  {
   "cell_type": "code",
   "execution_count": 22,
   "metadata": {},
   "outputs": [
    {
     "data": {
      "text/html": [
       "<div>\n",
       "<style scoped>\n",
       "    .dataframe tbody tr th:only-of-type {\n",
       "        vertical-align: middle;\n",
       "    }\n",
       "\n",
       "    .dataframe tbody tr th {\n",
       "        vertical-align: top;\n",
       "    }\n",
       "\n",
       "    .dataframe thead tr th {\n",
       "        text-align: left;\n",
       "    }\n",
       "\n",
       "    .dataframe thead tr:last-of-type th {\n",
       "        text-align: right;\n",
       "    }\n",
       "</style>\n",
       "<table border=\"1\" class=\"dataframe\">\n",
       "  <thead>\n",
       "    <tr>\n",
       "      <th></th>\n",
       "      <th></th>\n",
       "      <th colspan=\"6\" halign=\"left\">dS</th>\n",
       "    </tr>\n",
       "    <tr>\n",
       "      <th></th>\n",
       "      <th></th>\n",
       "      <th>count</th>\n",
       "      <th>mean</th>\n",
       "      <th>std</th>\n",
       "      <th>min</th>\n",
       "      <th>50%</th>\n",
       "      <th>max</th>\n",
       "    </tr>\n",
       "    <tr>\n",
       "      <th>mol_id</th>\n",
       "      <th>orientation</th>\n",
       "      <th></th>\n",
       "      <th></th>\n",
       "      <th></th>\n",
       "      <th></th>\n",
       "      <th></th>\n",
       "      <th></th>\n",
       "    </tr>\n",
       "  </thead>\n",
       "  <tbody>\n",
       "    <tr>\n",
       "      <th rowspan=\"2\" valign=\"top\">lig</th>\n",
       "      <th>A</th>\n",
       "      <td>10.0</td>\n",
       "      <td>-11.36</td>\n",
       "      <td>0.23</td>\n",
       "      <td>-11.66</td>\n",
       "      <td>-11.38</td>\n",
       "      <td>-10.85</td>\n",
       "    </tr>\n",
       "    <tr>\n",
       "      <th>B</th>\n",
       "      <td>10.0</td>\n",
       "      <td>-11.88</td>\n",
       "      <td>0.26</td>\n",
       "      <td>-12.36</td>\n",
       "      <td>-11.92</td>\n",
       "      <td>-11.53</td>\n",
       "    </tr>\n",
       "    <tr>\n",
       "      <th rowspan=\"2\" valign=\"top\">phs</th>\n",
       "      <th>A</th>\n",
       "      <td>10.0</td>\n",
       "      <td>-11.53</td>\n",
       "      <td>0.19</td>\n",
       "      <td>-11.86</td>\n",
       "      <td>-11.57</td>\n",
       "      <td>-11.20</td>\n",
       "    </tr>\n",
       "    <tr>\n",
       "      <th>B</th>\n",
       "      <td>10.0</td>\n",
       "      <td>-12.75</td>\n",
       "      <td>0.18</td>\n",
       "      <td>-13.06</td>\n",
       "      <td>-12.71</td>\n",
       "      <td>-12.57</td>\n",
       "    </tr>\n",
       "    <tr>\n",
       "      <th rowspan=\"2\" valign=\"top\">sph</th>\n",
       "      <th>A</th>\n",
       "      <td>10.0</td>\n",
       "      <td>-12.93</td>\n",
       "      <td>0.20</td>\n",
       "      <td>-13.40</td>\n",
       "      <td>-12.93</td>\n",
       "      <td>-12.65</td>\n",
       "    </tr>\n",
       "    <tr>\n",
       "      <th>B</th>\n",
       "      <td>10.0</td>\n",
       "      <td>-13.12</td>\n",
       "      <td>0.23</td>\n",
       "      <td>-13.58</td>\n",
       "      <td>-13.05</td>\n",
       "      <td>-12.85</td>\n",
       "    </tr>\n",
       "  </tbody>\n",
       "</table>\n",
       "</div>"
      ],
      "text/plain": [
       "                      dS                                  \n",
       "                   count   mean   std    min    50%    max\n",
       "mol_id orientation                                        \n",
       "lig    A            10.0 -11.36  0.23 -11.66 -11.38 -10.85\n",
       "       B            10.0 -11.88  0.26 -12.36 -11.92 -11.53\n",
       "phs    A            10.0 -11.53  0.19 -11.86 -11.57 -11.20\n",
       "       B            10.0 -12.75  0.18 -13.06 -12.71 -12.57\n",
       "sph    A            10.0 -12.93  0.20 -13.40 -12.93 -12.65\n",
       "       B            10.0 -13.12  0.23 -13.58 -13.05 -12.85"
      ]
     },
     "execution_count": 22,
     "metadata": {},
     "output_type": "execute_result"
    }
   ],
   "source": [
    "foo.describe(percentiles=[])[['dS']].round(decimals=2)"
   ]
  },
  {
   "cell_type": "code",
   "execution_count": 21,
   "metadata": {},
   "outputs": [
    {
     "data": {
      "text/html": [
       "<div>\n",
       "<style scoped>\n",
       "    .dataframe tbody tr th:only-of-type {\n",
       "        vertical-align: middle;\n",
       "    }\n",
       "\n",
       "    .dataframe tbody tr th {\n",
       "        vertical-align: top;\n",
       "    }\n",
       "\n",
       "    .dataframe thead tr th {\n",
       "        text-align: left;\n",
       "    }\n",
       "\n",
       "    .dataframe thead tr:last-of-type th {\n",
       "        text-align: right;\n",
       "    }\n",
       "</style>\n",
       "<table border=\"1\" class=\"dataframe\">\n",
       "  <thead>\n",
       "    <tr>\n",
       "      <th></th>\n",
       "      <th></th>\n",
       "      <th colspan=\"6\" halign=\"left\">dG</th>\n",
       "    </tr>\n",
       "    <tr>\n",
       "      <th></th>\n",
       "      <th></th>\n",
       "      <th>count</th>\n",
       "      <th>mean</th>\n",
       "      <th>std</th>\n",
       "      <th>min</th>\n",
       "      <th>50%</th>\n",
       "      <th>max</th>\n",
       "    </tr>\n",
       "    <tr>\n",
       "      <th>mol_id</th>\n",
       "      <th>orientation</th>\n",
       "      <th></th>\n",
       "      <th></th>\n",
       "      <th></th>\n",
       "      <th></th>\n",
       "      <th></th>\n",
       "      <th></th>\n",
       "    </tr>\n",
       "  </thead>\n",
       "  <tbody>\n",
       "    <tr>\n",
       "      <th rowspan=\"2\" valign=\"top\">lig</th>\n",
       "      <th>A</th>\n",
       "      <td>10.0</td>\n",
       "      <td>-7.27</td>\n",
       "      <td>0.59</td>\n",
       "      <td>-8.37</td>\n",
       "      <td>-7.27</td>\n",
       "      <td>-6.31</td>\n",
       "    </tr>\n",
       "    <tr>\n",
       "      <th>B</th>\n",
       "      <td>10.0</td>\n",
       "      <td>-11.15</td>\n",
       "      <td>0.58</td>\n",
       "      <td>-12.54</td>\n",
       "      <td>-11.06</td>\n",
       "      <td>-10.48</td>\n",
       "    </tr>\n",
       "    <tr>\n",
       "      <th rowspan=\"2\" valign=\"top\">phs</th>\n",
       "      <th>A</th>\n",
       "      <td>10.0</td>\n",
       "      <td>-10.20</td>\n",
       "      <td>0.41</td>\n",
       "      <td>-10.92</td>\n",
       "      <td>-10.26</td>\n",
       "      <td>-9.57</td>\n",
       "    </tr>\n",
       "    <tr>\n",
       "      <th>B</th>\n",
       "      <td>10.0</td>\n",
       "      <td>-3.33</td>\n",
       "      <td>0.49</td>\n",
       "      <td>-3.84</td>\n",
       "      <td>-3.48</td>\n",
       "      <td>-2.25</td>\n",
       "    </tr>\n",
       "    <tr>\n",
       "      <th rowspan=\"2\" valign=\"top\">sph</th>\n",
       "      <th>A</th>\n",
       "      <td>10.0</td>\n",
       "      <td>-6.09</td>\n",
       "      <td>0.59</td>\n",
       "      <td>-6.93</td>\n",
       "      <td>-6.26</td>\n",
       "      <td>-5.03</td>\n",
       "    </tr>\n",
       "    <tr>\n",
       "      <th>B</th>\n",
       "      <td>10.0</td>\n",
       "      <td>-9.36</td>\n",
       "      <td>0.33</td>\n",
       "      <td>-9.73</td>\n",
       "      <td>-9.43</td>\n",
       "      <td>-8.74</td>\n",
       "    </tr>\n",
       "  </tbody>\n",
       "</table>\n",
       "</div>"
      ],
      "text/plain": [
       "                      dG                                  \n",
       "                   count   mean   std    min    50%    max\n",
       "mol_id orientation                                        \n",
       "lig    A            10.0  -7.27  0.59  -8.37  -7.27  -6.31\n",
       "       B            10.0 -11.15  0.58 -12.54 -11.06 -10.48\n",
       "phs    A            10.0 -10.20  0.41 -10.92 -10.26  -9.57\n",
       "       B            10.0  -3.33  0.49  -3.84  -3.48  -2.25\n",
       "sph    A            10.0  -6.09  0.59  -6.93  -6.26  -5.03\n",
       "       B            10.0  -9.36  0.33  -9.73  -9.43  -8.74"
      ]
     },
     "execution_count": 21,
     "metadata": {},
     "output_type": "execute_result"
    }
   ],
   "source": [
    "foo.describe(percentiles=[])[['dG']].round(decimals=2)"
   ]
  },
  {
   "cell_type": "markdown",
   "metadata": {
    "collapsed": true
   },
   "source": [
    "## Analysis of repetitons for ligand A and B"
   ]
  },
  {
   "cell_type": "code",
   "execution_count": 43,
   "metadata": {},
   "outputs": [],
   "source": [
    "entropy_raw = pd.read_csv('../data/energy/repetitions_entropy', header = None)\n",
    "entropy_raw.columns = ['raw_name', 'entropy']\n",
    "entropy_raw['instance'] = entropy_raw['raw_name'].str.extract('\\w{2,3}_[A,B]_r\\d_\\d{1,3}_(\\w*)')\n",
    "entropy_raw['repetition'] = entropy_raw['raw_name'].str.extract('(\\w{2,3}_[A,B]_r\\d_\\d{1,3})_\\w*')\n"
   ]
  },
  {
   "cell_type": "code",
   "execution_count": 44,
   "metadata": {},
   "outputs": [
    {
     "data": {
      "text/html": [
       "<div>\n",
       "<style scoped>\n",
       "    .dataframe tbody tr th:only-of-type {\n",
       "        vertical-align: middle;\n",
       "    }\n",
       "\n",
       "    .dataframe tbody tr th {\n",
       "        vertical-align: top;\n",
       "    }\n",
       "\n",
       "    .dataframe thead th {\n",
       "        text-align: right;\n",
       "    }\n",
       "</style>\n",
       "<table border=\"1\" class=\"dataframe\">\n",
       "  <thead>\n",
       "    <tr style=\"text-align: right;\">\n",
       "      <th>instance</th>\n",
       "      <th>complex</th>\n",
       "      <th>ligand</th>\n",
       "      <th>protein</th>\n",
       "    </tr>\n",
       "    <tr>\n",
       "      <th>repetition</th>\n",
       "      <th></th>\n",
       "      <th></th>\n",
       "      <th></th>\n",
       "    </tr>\n",
       "  </thead>\n",
       "  <tbody>\n",
       "    <tr>\n",
       "      <th>lig_A_r1_0</th>\n",
       "      <td>220.019266</td>\n",
       "      <td>163.009033</td>\n",
       "      <td>220.017238</td>\n",
       "    </tr>\n",
       "    <tr>\n",
       "      <th>lig_A_r1_1</th>\n",
       "      <td>218.498121</td>\n",
       "      <td>157.551397</td>\n",
       "      <td>219.584462</td>\n",
       "    </tr>\n",
       "    <tr>\n",
       "      <th>lig_A_r1_2</th>\n",
       "      <td>218.659461</td>\n",
       "      <td>157.596434</td>\n",
       "      <td>218.420449</td>\n",
       "    </tr>\n",
       "    <tr>\n",
       "      <th>lig_A_r1_3</th>\n",
       "      <td>217.147008</td>\n",
       "      <td>163.423264</td>\n",
       "      <td>217.367972</td>\n",
       "    </tr>\n",
       "    <tr>\n",
       "      <th>lig_A_r1_4</th>\n",
       "      <td>219.414274</td>\n",
       "      <td>161.326750</td>\n",
       "      <td>219.373551</td>\n",
       "    </tr>\n",
       "    <tr>\n",
       "      <th>lig_A_r1_5</th>\n",
       "      <td>217.502487</td>\n",
       "      <td>159.572922</td>\n",
       "      <td>217.290954</td>\n",
       "    </tr>\n",
       "    <tr>\n",
       "      <th>lig_A_r1_6</th>\n",
       "      <td>220.357023</td>\n",
       "      <td>160.951108</td>\n",
       "      <td>219.689863</td>\n",
       "    </tr>\n",
       "    <tr>\n",
       "      <th>lig_A_r1_7</th>\n",
       "      <td>219.491598</td>\n",
       "      <td>161.676249</td>\n",
       "      <td>219.482238</td>\n",
       "    </tr>\n",
       "    <tr>\n",
       "      <th>lig_A_r1_8</th>\n",
       "      <td>218.623978</td>\n",
       "      <td>151.970466</td>\n",
       "      <td>219.055760</td>\n",
       "    </tr>\n",
       "    <tr>\n",
       "      <th>lig_A_r1_9</th>\n",
       "      <td>218.014006</td>\n",
       "      <td>157.479895</td>\n",
       "      <td>218.006968</td>\n",
       "    </tr>\n",
       "  </tbody>\n",
       "</table>\n",
       "</div>"
      ],
      "text/plain": [
       "instance       complex      ligand     protein\n",
       "repetition                                    \n",
       "lig_A_r1_0  220.019266  163.009033  220.017238\n",
       "lig_A_r1_1  218.498121  157.551397  219.584462\n",
       "lig_A_r1_2  218.659461  157.596434  218.420449\n",
       "lig_A_r1_3  217.147008  163.423264  217.367972\n",
       "lig_A_r1_4  219.414274  161.326750  219.373551\n",
       "lig_A_r1_5  217.502487  159.572922  217.290954\n",
       "lig_A_r1_6  220.357023  160.951108  219.689863\n",
       "lig_A_r1_7  219.491598  161.676249  219.482238\n",
       "lig_A_r1_8  218.623978  151.970466  219.055760\n",
       "lig_A_r1_9  218.014006  157.479895  218.006968"
      ]
     },
     "execution_count": 44,
     "metadata": {},
     "output_type": "execute_result"
    }
   ],
   "source": [
    "entropy_pivot = entropy_raw.pivot_table(columns='instance', values='entropy', index='repetition')\n",
    "entropy_pivot[:10]"
   ]
  },
  {
   "cell_type": "code",
   "execution_count": 45,
   "metadata": {},
   "outputs": [],
   "source": [
    "entropy_pivot['total'] = entropy_pivot['complex'] - (entropy_pivot['ligand'] + entropy_pivot['protein'])\n",
    "entropy_pivot['temperature'] = 298\n",
    "jul2kcal=0.000239006\n",
    "entropy_pivot['total'] = entropy_pivot['total'] * entropy_pivot['temperature'] * jul2kcal\n",
    "entropy_pivot.reset_index(level=0, inplace=True)"
   ]
  },
  {
   "cell_type": "code",
   "execution_count": 46,
   "metadata": {},
   "outputs": [],
   "source": [
    "entropy_pivot['mol_id'] = entropy_pivot['repetition'].str.extract('^(\\w{3})')\n",
    "entropy_pivot['orientation'] = entropy_pivot['repetition'].str.extract('^\\w{3}_([A,B])_')\n",
    "entropy_pivot['repeat'] = entropy_pivot['repetition'].str.extract('^\\w{3}_[A,B]_r(\\d)')\n",
    "entropy_pivot['rep'] = entropy_pivot['repetition'].str.extract('^\\w{3}_[A,B]_r\\d_(\\d*"
   ]
  },
  {
   "cell_type": "code",
   "execution_count": 47,
   "metadata": {},
   "outputs": [
    {
     "name": "stderr",
     "output_type": "stream",
     "text": [
      "C:\\Users\\Bruno\\Anaconda3\\lib\\site-packages\\seaborn\\categorical.py:490: FutureWarning: remove_na is deprecated and is a private function. Do not use.\n",
      "  box_data = remove_na(group_data[hue_mask])\n"
     ]
    },
    {
     "data": {
      "image/png": "[encoded data removed]",
      "text/plain": [
       "<matplotlib.figure.Figure at 0x1ee1b782908>"
      ]
     },
     "metadata": {},
     "output_type": "display_data"
    }
   ],
   "source": [
    "sns.boxplot(x = 'orientation', y ='total', hue='repeat', data = entropy_pivot)\n",
    "plt.show()"
   ]
  },
  {
   "cell_type": "code",
   "execution_count": 58,
   "metadata": {},
   "outputs": [
    {
     "name": "stderr",
     "output_type": "stream",
     "text": [
      "C:\\Users\\Bruno\\Anaconda3\\lib\\site-packages\\ipykernel_launcher.py:1: ParserWarning: Falling back to the 'python' engine because the 'c' engine does not support regex separators (separators > 1 char and different from '\\s+' are interpreted as regex); you can avoid this warning by specifying engine='python'.\n",
      "  \"\"\"Entry point for launching an IPython kernel.\n"
     ]
    }
   ],
   "source": [
    "raw_entalpy = pd.read_table('../data/energy/repetitions_entalpy', sep=\"\\s\",header =None, names=['frames', 'dH', 'var', 'raw'])\n",
    "raw_entalpy['mol_id'] = raw_entalpy['raw'].str.extract('^(\\w{3})')\n",
    "raw_entalpy['orientation'] = raw_entalpy['raw'].str.extract('^\\w{3}_([A,B])')\n",
    "raw_entalpy['repeat'] = raw_entalpy['raw'].str.extract('^\\w{3}_[A,B]_r(\\d)')\n",
    "raw_entalpy['rep'] = raw_entalpy['raw'].str.extract('^\\w{3}_[A,B]_r\\d_(\\d{1,2})\\.entalpy')"
   ]
  },
  {
   "cell_type": "code",
   "execution_count": 59,
   "metadata": {},
   "outputs": [
    {
     "name": "stderr",
     "output_type": "stream",
     "text": [
      "C:\\Users\\Bruno\\Anaconda3\\lib\\site-packages\\seaborn\\categorical.py:490: FutureWarning: remove_na is deprecated and is a private function. Do not use.\n",
      "  box_data = remove_na(group_data[hue_mask])\n"
     ]
    },
    {
     "data": {
      "image/png": "[encoded data removed]",
      "text/plain": [
       "<matplotlib.figure.Figure at 0x1ee1b0b2ef0>"
      ]
     },
     "metadata": {},
     "output_type": "display_data"
    }
   ],
   "source": [
    "sns.boxplot(x = 'orientation', y = 'dH', hue = 'repeat', data = raw_entalpy)\n",
    "plt.show()"
   ]
  },
  {
   "cell_type": "code",
   "execution_count": 60,
   "metadata": {},
   "outputs": [],
   "source": [
    "entropy_pivot['dS'] = entropy_pivot['total']"
   ]
  },
  {
   "cell_type": "code",
   "execution_count": 61,
   "metadata": {},
   "outputs": [
    {
     "data": {
      "text/html": [
       "<div>\n",
       "<style scoped>\n",
       "    .dataframe tbody tr th:only-of-type {\n",
       "        vertical-align: middle;\n",
       "    }\n",
       "\n",
       "    .dataframe tbody tr th {\n",
       "        vertical-align: top;\n",
       "    }\n",
       "\n",
       "    .dataframe thead th {\n",
       "        text-align: right;\n",
       "    }\n",
       "</style>\n",
       "<table border=\"1\" class=\"dataframe\">\n",
       "  <thead>\n",
       "    <tr style=\"text-align: right;\">\n",
       "      <th></th>\n",
       "      <th>frames</th>\n",
       "      <th>dH</th>\n",
       "      <th>var</th>\n",
       "      <th>raw</th>\n",
       "      <th>mol_id</th>\n",
       "      <th>orientation</th>\n",
       "      <th>repeat</th>\n",
       "      <th>rep</th>\n",
       "    </tr>\n",
       "  </thead>\n",
       "  <tbody>\n",
       "    <tr>\n",
       "      <th>0</th>\n",
       "      <td>53</td>\n",
       "      <td>-19.977</td>\n",
       "      <td>5.2533</td>\n",
       "      <td>lig_A_r1_0.entalpy</td>\n",
       "      <td>lig</td>\n",
       "      <td>A</td>\n",
       "      <td>1</td>\n",
       "      <td>0</td>\n",
       "    </tr>\n",
       "  </tbody>\n",
       "</table>\n",
       "</div>"
      ],
      "text/plain": [
       "   frames      dH     var                 raw mol_id orientation repeat rep\n",
       "0      53 -19.977  5.2533  lig_A_r1_0.entalpy    lig           A      1   0"
      ]
     },
     "execution_count": 61,
     "metadata": {},
     "output_type": "execute_result"
    }
   ],
   "source": [
    "raw_entalpy[:1]"
   ]
  },
  {
   "cell_type": "code",
   "execution_count": 65,
   "metadata": {},
   "outputs": [],
   "source": [
    "repeat_ = pd.merge(\n",
    "    raw_entalpy[['mol_id', 'orientation', 'repeat', 'rep', 'dH']],\n",
    "    entropy_pivot[['mol_id', 'orientation', 'repeat', 'rep', 'dS']]\n",
    ")\n"
   ]
  },
  {
   "cell_type": "code",
   "execution_count": 67,
   "metadata": {},
   "outputs": [],
   "source": [
    "repeat_['dG'] = repeat_['dH']- repeat_['dS']"
   ]
  },
  {
   "cell_type": "code",
   "execution_count": 81,
   "metadata": {},
   "outputs": [
    {
     "name": "stderr",
     "output_type": "stream",
     "text": [
      "C:\\Users\\Bruno\\Anaconda3\\lib\\site-packages\\seaborn\\categorical.py:490: FutureWarning: remove_na is deprecated and is a private function. Do not use.\n",
      "  box_data = remove_na(group_data[hue_mask])\n"
     ]
    },
    {
     "data": {
      "image/png": "[encoded data removed]",
      "text/plain": [
       "<matplotlib.figure.Figure at 0x1ee1b5a5f28>"
      ]
     },
     "metadata": {},
     "output_type": "display_data"
    }
   ],
   "source": [
    "sns.set_context('talk')\n",
    "sns.set_palette('Set2')\n",
    "g = sns.boxplot(x = 'orientation', y = 'dG', hue = 'repeat', data = repeat_)\n",
    "g.set_ylabel('$\\Delta G$')\n",
    "plt.tight_layout()\n",
    "plt.savefig('C:/Users/Bruno/ownCloud/publication/ltp_2019/figure_n3.png', dpi=300)\n",
    "plt.show()"
   ]
  },
  {
   "cell_type": "code",
   "execution_count": 78,
   "metadata": {},
   "outputs": [
    {
     "data": {
      "text/html": [
       "<div>\n",
       "<style scoped>\n",
       "    .dataframe tbody tr th:only-of-type {\n",
       "        vertical-align: middle;\n",
       "    }\n",
       "\n",
       "    .dataframe tbody tr th {\n",
       "        vertical-align: top;\n",
       "    }\n",
       "\n",
       "    .dataframe thead th {\n",
       "        text-align: right;\n",
       "    }\n",
       "</style>\n",
       "<table border=\"1\" class=\"dataframe\">\n",
       "  <thead>\n",
       "    <tr style=\"text-align: right;\">\n",
       "      <th></th>\n",
       "      <th></th>\n",
       "      <th></th>\n",
       "      <th>dH</th>\n",
       "      <th>dS</th>\n",
       "      <th>dG</th>\n",
       "    </tr>\n",
       "    <tr>\n",
       "      <th>mol_id</th>\n",
       "      <th>orientation</th>\n",
       "      <th>repeat</th>\n",
       "      <th></th>\n",
       "      <th></th>\n",
       "      <th></th>\n",
       "    </tr>\n",
       "  </thead>\n",
       "  <tbody>\n",
       "    <tr>\n",
       "      <th rowspan=\"6\" valign=\"top\">lig</th>\n",
       "      <th rowspan=\"3\" valign=\"top\">A</th>\n",
       "      <th>1</th>\n",
       "      <td>-18.63</td>\n",
       "      <td>-11.36</td>\n",
       "      <td>-7.27</td>\n",
       "    </tr>\n",
       "    <tr>\n",
       "      <th>2</th>\n",
       "      <td>-18.89</td>\n",
       "      <td>-13.76</td>\n",
       "      <td>-5.12</td>\n",
       "    </tr>\n",
       "    <tr>\n",
       "      <th>3</th>\n",
       "      <td>-18.29</td>\n",
       "      <td>-14.01</td>\n",
       "      <td>-4.28</td>\n",
       "    </tr>\n",
       "    <tr>\n",
       "      <th rowspan=\"3\" valign=\"top\">B</th>\n",
       "      <th>1</th>\n",
       "      <td>-23.03</td>\n",
       "      <td>-11.88</td>\n",
       "      <td>-11.15</td>\n",
       "    </tr>\n",
       "    <tr>\n",
       "      <th>2</th>\n",
       "      <td>-25.12</td>\n",
       "      <td>-12.31</td>\n",
       "      <td>-12.81</td>\n",
       "    </tr>\n",
       "    <tr>\n",
       "      <th>3</th>\n",
       "      <td>-21.73</td>\n",
       "      <td>-12.04</td>\n",
       "      <td>-9.69</td>\n",
       "    </tr>\n",
       "  </tbody>\n",
       "</table>\n",
       "</div>"
      ],
      "text/plain": [
       "                              dH     dS     dG\n",
       "mol_id orientation repeat                     \n",
       "lig    A           1      -18.63 -11.36  -7.27\n",
       "                   2      -18.89 -13.76  -5.12\n",
       "                   3      -18.29 -14.01  -4.28\n",
       "       B           1      -23.03 -11.88 -11.15\n",
       "                   2      -25.12 -12.31 -12.81\n",
       "                   3      -21.73 -12.04  -9.69"
      ]
     },
     "execution_count": 78,
     "metadata": {},
     "output_type": "execute_result"
    }
   ],
   "source": [
    "repeat_.groupby(['mol_id', 'orientation', 'repeat']).mean().round(2)"
   ]
  },
  {
   "cell_type": "code",
   "execution_count": 79,
   "metadata": {},
   "outputs": [
    {
     "data": {
      "text/html": [
       "<div>\n",
       "<style scoped>\n",
       "    .dataframe tbody tr th:only-of-type {\n",
       "        vertical-align: middle;\n",
       "    }\n",
       "\n",
       "    .dataframe tbody tr th {\n",
       "        vertical-align: top;\n",
       "    }\n",
       "\n",
       "    .dataframe thead th {\n",
       "        text-align: right;\n",
       "    }\n",
       "</style>\n",
       "<table border=\"1\" class=\"dataframe\">\n",
       "  <thead>\n",
       "    <tr style=\"text-align: right;\">\n",
       "      <th></th>\n",
       "      <th></th>\n",
       "      <th></th>\n",
       "      <th>dH</th>\n",
       "      <th>dS</th>\n",
       "      <th>dG</th>\n",
       "    </tr>\n",
       "    <tr>\n",
       "      <th>mol_id</th>\n",
       "      <th>orientation</th>\n",
       "      <th>repeat</th>\n",
       "      <th></th>\n",
       "      <th></th>\n",
       "      <th></th>\n",
       "    </tr>\n",
       "  </thead>\n",
       "  <tbody>\n",
       "    <tr>\n",
       "      <th rowspan=\"6\" valign=\"top\">lig</th>\n",
       "      <th rowspan=\"3\" valign=\"top\">A</th>\n",
       "      <th>1</th>\n",
       "      <td>0.68</td>\n",
       "      <td>0.23</td>\n",
       "      <td>0.59</td>\n",
       "    </tr>\n",
       "    <tr>\n",
       "      <th>2</th>\n",
       "      <td>0.64</td>\n",
       "      <td>0.35</td>\n",
       "      <td>0.70</td>\n",
       "    </tr>\n",
       "    <tr>\n",
       "      <th>3</th>\n",
       "      <td>0.90</td>\n",
       "      <td>0.23</td>\n",
       "      <td>0.82</td>\n",
       "    </tr>\n",
       "    <tr>\n",
       "      <th rowspan=\"3\" valign=\"top\">B</th>\n",
       "      <th>1</th>\n",
       "      <td>0.49</td>\n",
       "      <td>0.26</td>\n",
       "      <td>0.58</td>\n",
       "    </tr>\n",
       "    <tr>\n",
       "      <th>2</th>\n",
       "      <td>0.44</td>\n",
       "      <td>0.21</td>\n",
       "      <td>0.51</td>\n",
       "    </tr>\n",
       "    <tr>\n",
       "      <th>3</th>\n",
       "      <td>0.69</td>\n",
       "      <td>0.22</td>\n",
       "      <td>0.73</td>\n",
       "    </tr>\n",
       "  </tbody>\n",
       "</table>\n",
       "</div>"
      ],
      "text/plain": [
       "                             dH    dS    dG\n",
       "mol_id orientation repeat                  \n",
       "lig    A           1       0.68  0.23  0.59\n",
       "                   2       0.64  0.35  0.70\n",
       "                   3       0.90  0.23  0.82\n",
       "       B           1       0.49  0.26  0.58\n",
       "                   2       0.44  0.21  0.51\n",
       "                   3       0.69  0.22  0.73"
      ]
     },
     "execution_count": 79,
     "metadata": {},
     "output_type": "execute_result"
    }
   ],
   "source": [
    "repeat_.groupby(['mol_id', 'orientation', 'repeat']).std().round(2)"
   ]
  },
  {
   "cell_type": "code",
   "execution_count": 76,
   "metadata": {},
   "outputs": [
    {
     "data": {
      "text/html": [
       "<div>\n",
       "<style scoped>\n",
       "    .dataframe tbody tr th:only-of-type {\n",
       "        vertical-align: middle;\n",
       "    }\n",
       "\n",
       "    .dataframe tbody tr th {\n",
       "        vertical-align: top;\n",
       "    }\n",
       "\n",
       "    .dataframe thead th {\n",
       "        text-align: right;\n",
       "    }\n",
       "</style>\n",
       "<table border=\"1\" class=\"dataframe\">\n",
       "  <thead>\n",
       "    <tr style=\"text-align: right;\">\n",
       "      <th></th>\n",
       "      <th></th>\n",
       "      <th>dH</th>\n",
       "      <th>dS</th>\n",
       "      <th>dG</th>\n",
       "    </tr>\n",
       "    <tr>\n",
       "      <th>mol_id</th>\n",
       "      <th>orientation</th>\n",
       "      <th></th>\n",
       "      <th></th>\n",
       "      <th></th>\n",
       "    </tr>\n",
       "  </thead>\n",
       "  <tbody>\n",
       "    <tr>\n",
       "      <th rowspan=\"2\" valign=\"top\">lig</th>\n",
       "      <th>A</th>\n",
       "      <td>-18.602033</td>\n",
       "      <td>-13.044907</td>\n",
       "      <td>-5.557126</td>\n",
       "    </tr>\n",
       "    <tr>\n",
       "      <th>B</th>\n",
       "      <td>-23.291793</td>\n",
       "      <td>-12.073989</td>\n",
       "      <td>-11.217804</td>\n",
       "    </tr>\n",
       "  </tbody>\n",
       "</table>\n",
       "</div>"
      ],
      "text/plain": [
       "                           dH         dS         dG\n",
       "mol_id orientation                                 \n",
       "lig    A           -18.602033 -13.044907  -5.557126\n",
       "       B           -23.291793 -12.073989 -11.217804"
      ]
     },
     "execution_count": 76,
     "metadata": {},
     "output_type": "execute_result"
    }
   ],
   "source": [
    "repeat_.groupby(['mol_id', 'orientation']).mean()"
   ]
  },
  {
   "cell_type": "code",
   "execution_count": 77,
   "metadata": {},
   "outputs": [
    {
     "data": {
      "text/html": [
       "<div>\n",
       "<style scoped>\n",
       "    .dataframe tbody tr th:only-of-type {\n",
       "        vertical-align: middle;\n",
       "    }\n",
       "\n",
       "    .dataframe tbody tr th {\n",
       "        vertical-align: top;\n",
       "    }\n",
       "\n",
       "    .dataframe thead th {\n",
       "        text-align: right;\n",
       "    }\n",
       "</style>\n",
       "<table border=\"1\" class=\"dataframe\">\n",
       "  <thead>\n",
       "    <tr style=\"text-align: right;\">\n",
       "      <th></th>\n",
       "      <th></th>\n",
       "      <th>dH</th>\n",
       "      <th>dS</th>\n",
       "      <th>dG</th>\n",
       "    </tr>\n",
       "    <tr>\n",
       "      <th>mol_id</th>\n",
       "      <th>orientation</th>\n",
       "      <th></th>\n",
       "      <th></th>\n",
       "      <th></th>\n",
       "    </tr>\n",
       "  </thead>\n",
       "  <tbody>\n",
       "    <tr>\n",
       "      <th rowspan=\"2\" valign=\"top\">lig</th>\n",
       "      <th>A</th>\n",
       "      <td>0.764224</td>\n",
       "      <td>1.244633</td>\n",
       "      <td>1.451378</td>\n",
       "    </tr>\n",
       "    <tr>\n",
       "      <th>B</th>\n",
       "      <td>1.514968</td>\n",
       "      <td>0.285587</td>\n",
       "      <td>1.423583</td>\n",
       "    </tr>\n",
       "  </tbody>\n",
       "</table>\n",
       "</div>"
      ],
      "text/plain": [
       "                          dH        dS        dG\n",
       "mol_id orientation                              \n",
       "lig    A            0.764224  1.244633  1.451378\n",
       "       B            1.514968  0.285587  1.423583"
      ]
     },
     "execution_count": 77,
     "metadata": {},
     "output_type": "execute_result"
    }
   ],
   "source": [
    "repeat_.groupby(['mol_id', 'orientation']).std()"
   ]
  },
  {
   "cell_type": "code",
   "execution_count": null,
   "metadata": {
    "collapsed": true
   },
   "outputs": [],
   "source": []
  }
 ],
 "metadata": {
  "kernelspec": {
   "display_name": "Python 3",
   "language": "python",
   "name": "python3"
  },
  "language_info": {
   "codemirror_mode": {
    "name": "ipython",
    "version": 3
   },
   "file_extension": ".py",
   "mimetype": "text/x-python",
   "name": "python",
   "nbconvert_exporter": "python",
   "pygments_lexer": "ipython3",
   "version": "3.6.3"
  }
 },
 "nbformat": 4,
 "nbformat_minor": 2
}
